{
 "cells": [
  {
   "cell_type": "code",
   "execution_count": 15,
   "id": "6ba75b81-e74b-424f-a4d3-4227e994b2f4",
   "metadata": {},
   "outputs": [],
   "source": [
    "import pandas as pd\n",
    "import numpy as np \n",
    "import matplotlib.pyplot as plt\n",
    "import seaborn as sns\n",
    "from sklearn.svm import SVC\n",
    "from sklearn.linear_model import LogisticRegression\n",
    "from sklearn.ensemble import RandomForestClassifier\n",
    "from sklearn.feature_selection import RFE\n",
    "from sklearn.metrics import accuracy_score, precision_score, recall_score, f1_score ,roc_auc_score,roc_curve\n",
    "from sklearn.model_selection import train_test_split\n",
    "from sklearn.preprocessing import StandardScaler\n",
    "from sklearn.utils import shuffle\n"
   ]
  },
  {
   "cell_type": "code",
   "execution_count": null,
   "id": "24a6fb35-b44f-4b49-b1ee-a51c2cd47afd",
   "metadata": {},
   "outputs": [],
   "source": []
  },
  {
   "cell_type": "code",
   "execution_count": 16,
   "id": "16400117-89b8-410e-ba79-d46a6939df4e",
   "metadata": {},
   "outputs": [],
   "source": [
    "def split_data(df, target_column, test_size=0.2, random_state=None,downsample=False):\n",
    "    # Convert 'YES'/'NO' to binary\n",
    "    df[target_column] = df[target_column].map({'YES': 1, 'NO': 0})\n",
    "    \n",
    "    # Splitting each class independently\n",
    "    df_yes = df[df[target_column] == 1]\n",
    "    df_no = df[df[target_column] == 0]\n",
    "    \n",
    "    if downsample:\n",
    "        # df_no = df_no.sample(n=len(df_yes),random_state=random_state)\n",
    "        df_yes = df_yes.sample(n=len(df_no),random_state=random_state)\n",
    "    \n",
    "    # print(f\"NO values : {len(df_no)} , Yes Values : {len(df_yes)} \") \n",
    "    \n",
    "    train_yes_X, test_yes_X, train_yes_y, test_yes_y = train_test_split(\n",
    "        df_yes.loc[:, df_yes.columns != target_column], df_yes[target_column], \n",
    "        test_size=test_size, random_state=random_state)\n",
    "    \n",
    "    train_no_X, test_no_X, train_no_y, test_no_y = train_test_split(\n",
    "        df_no.loc[:, df_no.columns != target_column], df_no[target_column], \n",
    "        test_size=test_size, random_state=random_state)\n",
    "    \n",
    "    # Combine the splits from both classes\n",
    "    train_X = pd.concat([train_yes_X, train_no_X])\n",
    "    train_y = pd.concat([train_yes_y, train_no_y])\n",
    "    test_X = pd.concat([test_yes_X, test_no_X])\n",
    "    test_y = pd.concat([test_yes_y, test_no_y])\n",
    "    \n",
    "    # Shuffle the combined splits as they are currently sorted by class\n",
    "    train_X, train_y = shuffle(train_X, train_y, random_state=random_state)\n",
    "    test_X, test_y = shuffle(test_X, test_y, random_state=random_state)\n",
    "    \n",
    "    # Create the dictionary of dictionaries\n",
    "    data = {\n",
    "        'train': {'X': train_X, 'y': train_y},\n",
    "        'test': {'X': test_X, 'y': test_y}\n",
    "    }\n",
    "    \n",
    "    data['train']['X'] = data['train']['X'].set_index('Chromosome_Start_Ref_Alt').to_numpy()\n",
    "    \n",
    "    data['test']['X'] = data['test']['X'].set_index('Chromosome_Start_Ref_Alt').to_numpy()\n",
    "    \n",
    "    \n",
    "    data['train']['y'] = data['train']['y'].to_numpy() \n",
    "    data['test']['y'] = data['test']['y'].to_numpy()\n",
    "    \n",
    "    return data\n"
   ]
  },
  {
   "cell_type": "code",
   "execution_count": null,
   "id": "21665c37-35db-4e26-8ed5-fdcd95dd4fd2",
   "metadata": {},
   "outputs": [],
   "source": []
  },
  {
   "cell_type": "code",
   "execution_count": 17,
   "id": "4d7e92d1-4085-4cfc-ae17-7c00543d8914",
   "metadata": {},
   "outputs": [],
   "source": [
    "def fit_models_and_plot_auc_I(run_id=1):\n",
    "    \n",
    "    models = {\n",
    "        'LogisticRegression': LogisticRegression(class_weight='balanced',max_iter=1000),\n",
    "        'SVC': SVC(kernel='linear'), \n",
    "        'RandomForestClassifier': RandomForestClassifier()\n",
    "    }\n",
    "    \n",
    "    df_yes = pd.read_csv('raw_data/label_YES/Mutation_299_Yes_40scores_2936_feb8.txt', delimiter='\\t')\n",
    "    chromosome_ref_name = df_yes['Chromosome_Start_Ref_Alt']\n",
    "    del df_yes['Chromosome_Start_Ref_Alt']\n",
    "\n",
    "    df_yes.replace('.', np.nan, inplace=True)\n",
    "    df_yes = df_yes.apply(pd.to_numeric, errors='coerce')\n",
    "    df_yes.fillna(df_yes.mean(), inplace=True)\n",
    "    df_yes['Status'] = 'YES'\n",
    "    df_yes['Chromosome_Start_Ref_Alt'] = chromosome_ref_name\n",
    "\n",
    "    metrics = {'accuracy': [], 'precision': [], 'recall': [], 'f1_score': [], 'auc': []}\n",
    "    coefficients = {}\n",
    "    feature_importances = []\n",
    "    cdf = {}\n",
    "\n",
    "    df_no_path = f'./raw_data/label_NO/Iteration{run_id}_2936-No.txt'\n",
    "    df_no = pd.read_csv(df_no_path, delimiter='\\t')\n",
    "    temp1 = df_no['Chromosome_Start_Ref_Alt']\n",
    "    del df_no['Chromosome_Start_Ref_Alt']\n",
    "    df_no.replace('.', np.nan, inplace=True)\n",
    "    df_no = df_no.apply(pd.to_numeric, errors='coerce')\n",
    "    df_no.fillna(df_no.mean(), inplace=True)\n",
    "    df_no['Status'] = 'NO'\n",
    "    df_no['Chromosome_Start_Ref_Alt'] = temp1\n",
    "    \n",
    "    df_combined = pd.concat([df_yes, df_no], axis=0)\n",
    "    \n",
    "    temp_data = split_data(df_combined, 'Status', random_state=run_id)\n",
    "    X_train, y_train = temp_data['train']['X'], temp_data['train']['y']\n",
    "    X_test, y_test = temp_data['test']['X'], temp_data['test']['y']\n",
    "    \n",
    "    for name, model in models.items():\n",
    "        cdf[name] = {};\n",
    "        model.fit(X_train, y_train)\n",
    "    \n",
    "        # Check if the model has predict_proba, otherwise use decision_function if available\n",
    "        # We require y_scores so that we can plot the AUC curve.\n",
    "        # Ideally y_pred is used as final prediction \n",
    "        \n",
    "        if hasattr(model, \"predict_proba\"):\n",
    "            y_scores = model.predict_proba(X_test)[:, 1]\n",
    "            print(f'model name(predict_proba) :{name}')\n",
    "        elif hasattr(model, \"decision_function\"):\n",
    "            y_scores = model.decision_function(X_test)\n",
    "            # Normalize decision_function output to be between 0 and 1\n",
    "            y_scores = (y_scores - y_scores.min()) / (y_scores.max() - y_scores.min())\n",
    "        else:\n",
    "            raise ValueError(f\"Model {name} does not have predict_proba or decision_function\")\n",
    "            \n",
    "        y_pred = model.predict(X_test)\n",
    "        print(f'Model name {model}' ,y_scores.shape)\n",
    "        \n",
    "        fpr, tpr, thresholds = roc_curve(y_test, y_scores) \n",
    "        cdf[name]['X_fpr'],cdf[name]['Y_tpr'],cdf[name]['threshold']  = fpr, tpr, thresholds;\n",
    "\n",
    "        roc_auc = roc_auc_score(y_test, y_pred,average='weighted')\n",
    "        cdf[name]['ROC_AUC_value'] = roc_auc \n",
    "        plt.plot(fpr, tpr, label=f'{name} (AUC = {roc_auc:.2f})')\n",
    "        y_pred_class = y_scores >= 0.5 \n",
    "\n",
    "\n",
    "    plt.plot([0, 1], [0, 1], 'k--')  # Dashed diagonal\n",
    "    plt.xlim([0.0, 1.0])\n",
    "    plt.ylim([0.0, 1.05])\n",
    "    plt.xlabel('False Positive Rate')\n",
    "    plt.ylabel('True Positive Rate')\n",
    "    plt.title('Receiver Operating Characteristic (ROC)')\n",
    "    plt.legend(loc=\"lower right\")\n",
    "    plt.show()\n",
    "    \n",
    "    return cdf"
   ]
  },
  {
   "cell_type": "code",
   "execution_count": 18,
   "id": "12906bb4-6e08-4eda-98aa-9c5bed5898ff",
   "metadata": {},
   "outputs": [
    {
     "name": "stdout",
     "output_type": "stream",
     "text": [
      "model name(predict_proba) :LogisticRegression\n",
      "Model name LogisticRegression(class_weight='balanced', max_iter=1000) (1176,)\n",
      "Model name SVC(kernel='linear') (1176,)\n",
      "model name(predict_proba) :RandomForestClassifier\n",
      "Model name RandomForestClassifier() (1176,)\n"
     ]
    },
    {
     "data": {
      "image/png": "[encoded data removed]",
      "text/plain": [
       "<Figure size 432x288 with 1 Axes>"
      ]
     },
     "metadata": {
      "needs_background": "light"
     },
     "output_type": "display_data"
    }
   ],
   "source": [
    "data_r1 = fit_models_and_plot_auc_I(run_id=1)"
   ]
  },
  {
   "cell_type": "code",
   "execution_count": null,
   "id": "e36e5924-7099-4305-b2ce-eb1015ec8c57",
   "metadata": {},
   "outputs": [],
   "source": []
  }
 ],
 "metadata": {
  "kernelspec": {
   "display_name": "Python 3 (ipykernel)",
   "language": "python",
   "name": "python3"
  },
  "language_info": {
   "codemirror_mode": {
    "name": "ipython",
    "version": 3
   },
   "file_extension": ".py",
   "mimetype": "text/x-python",
   "name": "python",
   "nbconvert_exporter": "python",
   "pygments_lexer": "ipython3",
   "version": "3.8.6"
  }
 },
 "nbformat": 4,
 "nbformat_minor": 5
}
